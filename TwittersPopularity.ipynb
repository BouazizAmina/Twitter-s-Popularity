{
 "cells": [
  {
   "cell_type": "code",
   "execution_count": 2,
   "metadata": {},
   "outputs": [],
   "source": [
    "import numpy as np"
   ]
  },
  {
   "cell_type": "markdown",
   "metadata": {},
   "source": [
    "# Statistiques d’engagement"
   ]
  },
  {
   "cell_type": "code",
   "execution_count": 3,
   "metadata": {},
   "outputs": [
    {
     "data": {
      "text/plain": [
       "array([[1, 5, 5, 0, 0],\n",
       "       [2, 0, 5, 0, 3],\n",
       "       [0, 0, 0, 0, 0],\n",
       "       [2, 0, 0, 4, 0],\n",
       "       [0, 4, 2, 0, 0]])"
      ]
     },
     "execution_count": 3,
     "metadata": {},
     "output_type": "execute_result"
    }
   ],
   "source": [
    "#Reply Matrix\n",
    "reply = np.array([[1,5,5,0,0], [2,0,5,0,3], [0,0,0,0,0], [2,0,0,4,0], [0,4,2,0,0]])\n",
    "reply"
   ]
  },
  {
   "cell_type": "code",
   "execution_count": 4,
   "metadata": {},
   "outputs": [
    {
     "data": {
      "text/plain": [
       "array([[0, 2, 4, 0, 0],\n",
       "       [0, 0, 0, 0, 0],\n",
       "       [0, 0, 0, 0, 0],\n",
       "       [0, 0, 0, 4, 3],\n",
       "       [0, 2, 5, 0, 0]])"
      ]
     },
     "execution_count": 4,
     "metadata": {},
     "output_type": "execute_result"
    }
   ],
   "source": [
    "#Retweet Matrix\n",
    "retweet = np.array([[0,2,4,0,0], [0,0,0,0,0], [0,0,0,0,0], [0,0,0,4,3], [0,2,5,0,0]])\n",
    "retweet"
   ]
  },
  {
   "cell_type": "code",
   "execution_count": 5,
   "metadata": {},
   "outputs": [
    {
     "data": {
      "text/plain": [
       "array([[2, 5, 1, 0, 3],\n",
       "       [0, 0, 0, 0, 0],\n",
       "       [0, 5, 0, 3, 3],\n",
       "       [1, 0, 0, 4, 1],\n",
       "       [0, 0, 9, 0, 0]])"
      ]
     },
     "execution_count": 5,
     "metadata": {},
     "output_type": "execute_result"
    }
   ],
   "source": [
    "#Like Matrix\n",
    "like = np.array([[2,5,1,0,3], [0,0,0,0,0], [0,5,0,3,3], [1,0,0,4,1], [0,0,9,0,0]])\n",
    "like"
   ]
  },
  {
   "cell_type": "code",
   "execution_count": 6,
   "metadata": {},
   "outputs": [
    {
     "data": {
      "text/plain": [
       "0"
      ]
     },
     "execution_count": 6,
     "metadata": {},
     "output_type": "execute_result"
    }
   ],
   "source": [
    "#Indice de l’utilisateur qui répond (Reply) plus que les autres\n",
    "sumReply = reply.sum(axis=1)\n",
    "np.argmax(sumReply)"
   ]
  },
  {
   "cell_type": "code",
   "execution_count": 7,
   "metadata": {},
   "outputs": [
    {
     "data": {
      "text/plain": [
       "3"
      ]
     },
     "execution_count": 7,
     "metadata": {},
     "output_type": "execute_result"
    }
   ],
   "source": [
    "#Indice de l’utilisateur qui répond (Retweet) plus que les autres\n",
    "sumRetweet = retweet.sum(axis=1)\n",
    "np.argmax(sumRetweet)"
   ]
  },
  {
   "cell_type": "code",
   "execution_count": 43,
   "metadata": {},
   "outputs": [
    {
     "data": {
      "text/plain": [
       "array([[2]], dtype=int64)"
      ]
     },
     "execution_count": 43,
     "metadata": {},
     "output_type": "execute_result"
    }
   ],
   "source": [
    "#Indice des les utilisateurs qui ne répondent pas (Reply) et qui ne partagent pas (Retweet)\n",
    "sum_Reply_Retweet = sumReply + sumRetweet\n",
    "np.argwhere(sum_Reply_Retweet == 0)"
   ]
  },
  {
   "cell_type": "code",
   "execution_count": 9,
   "metadata": {},
   "outputs": [
    {
     "data": {
      "text/plain": [
       "array([2, 0, 0, 4, 0])"
      ]
     },
     "execution_count": 9,
     "metadata": {},
     "output_type": "execute_result"
    }
   ],
   "source": [
    "#le nombre des Likes que chaque utilisateur fait pour ses propres tweets\n",
    "selfLikes=like.diagonal()\n",
    "selfLikes"
   ]
  },
  {
   "cell_type": "code",
   "execution_count": 10,
   "metadata": {},
   "outputs": [
    {
     "data": {
      "text/plain": [
       "array([ 9,  0, 11,  2,  9])"
      ]
     },
     "execution_count": 10,
     "metadata": {},
     "output_type": "execute_result"
    }
   ],
   "source": [
    "#le nombre des Likes que chaque utilisateur fait pour les tweets autre que les tien\n",
    "sumLike = like.sum(axis=1)\n",
    "othersLikes =sumLike- selfLikes\n",
    "othersLikes"
   ]
  },
  {
   "cell_type": "code",
   "execution_count": 11,
   "metadata": {},
   "outputs": [
    {
     "data": {
      "text/plain": [
       "array([[3]], dtype=int64)"
      ]
     },
     "execution_count": 11,
     "metadata": {},
     "output_type": "execute_result"
    }
   ],
   "source": [
    "# Les utilisateurs qui aiment leurs propres tweets plus qu’ils aiment les tweets des autres\n",
    "likers=np.argwhere(selfLikes>othersLikes)\n",
    "likers"
   ]
  },
  {
   "cell_type": "code",
   "execution_count": 12,
   "metadata": {},
   "outputs": [
    {
     "data": {
      "text/plain": [
       "1"
      ]
     },
     "execution_count": 12,
     "metadata": {},
     "output_type": "execute_result"
    }
   ],
   "source": [
    "# Calculer leur nombre\n",
    "nb = np.shape(likers)[0]\n",
    "nb"
   ]
  },
  {
   "cell_type": "code",
   "execution_count": 13,
   "metadata": {},
   "outputs": [
    {
     "data": {
      "text/plain": [
       "array([28, 10, 11, 19, 22])"
      ]
     },
     "execution_count": 13,
     "metadata": {},
     "output_type": "execute_result"
    }
   ],
   "source": [
    "#le nombre des interactions que chaque utilisateur a fait\n",
    "sumInteractions = sumReply + sumRetweet + sumLike\n",
    "sumInteractions"
   ]
  },
  {
   "cell_type": "markdown",
   "metadata": {},
   "source": [
    "# Statistiques sur les interactions"
   ]
  },
  {
   "cell_type": "code",
   "execution_count": 113,
   "metadata": {},
   "outputs": [
    {
     "data": {
      "text/plain": [
       "array([2, 5, 9, 4, 3])"
      ]
     },
     "execution_count": 113,
     "metadata": {},
     "output_type": "execute_result"
    }
   ],
   "source": [
    "#le max des Likes que chaque utilisateur a reçu\n",
    "maxLikes = np.max(like, axis=0)\n",
    "maxLikes"
   ]
  },
  {
   "cell_type": "code",
   "execution_count": 114,
   "metadata": {},
   "outputs": [
    {
     "data": {
      "text/plain": [
       "array([[0],\n",
       "       [1],\n",
       "       [2],\n",
       "       [3],\n",
       "       [4]], dtype=int64)"
      ]
     },
     "execution_count": 114,
     "metadata": {},
     "output_type": "execute_result"
    }
   ],
   "source": [
    "# le nombre des arcs entrants (ayant au moins une interaction)\n",
    "sumMatrix=reply+retweet+like\n",
    "isInteract = sumMatrix > 0\n",
    "isInteractBin = isInteract.astype(int)\n",
    "nbInteractE = isInteractBin.sum(axis=1)\n",
    "np.argwhere(nbInteractE > 0)"
   ]
  },
  {
   "cell_type": "code",
   "execution_count": 115,
   "metadata": {},
   "outputs": [
    {
     "data": {
      "text/plain": [
       "array([[0],\n",
       "       [1],\n",
       "       [2],\n",
       "       [3],\n",
       "       [4]], dtype=int64)"
      ]
     },
     "execution_count": 115,
     "metadata": {},
     "output_type": "execute_result"
    }
   ],
   "source": [
    "#nombre des arcs sortants (qui ont fait au moins une interaction)\n",
    "nbInteractS = isInteractBin.sum(axis=0)\n",
    "np.argwhere(nbInteractS > 0)\n"
   ]
  },
  {
   "cell_type": "code",
   "execution_count": 116,
   "metadata": {},
   "outputs": [
    {
     "data": {
      "text/plain": [
       "array([[1],\n",
       "       [2]], dtype=int64)"
      ]
     },
     "execution_count": 116,
     "metadata": {},
     "output_type": "execute_result"
    }
   ],
   "source": [
    "#les nœuds où le nombre des arcs entrants est égale au nombre de ceux sortants\n",
    "np.argwhere(nbInteractS == nbInteractE)"
   ]
  },
  {
   "cell_type": "code",
   "execution_count": 117,
   "metadata": {},
   "outputs": [
    {
     "data": {
      "text/plain": [
       "array([[ 2,  5,  1,  1,  3],\n",
       "       [ 5,  0,  5,  0,  0],\n",
       "       [ 1,  5,  0,  3, 12],\n",
       "       [ 1,  0,  3,  4,  1],\n",
       "       [ 3,  0, 12,  1,  0]])"
      ]
     },
     "execution_count": 117,
     "metadata": {},
     "output_type": "execute_result"
    }
   ],
   "source": [
    "# les Likes qu’ils ont fait entre eux\n",
    "interLike = like + like.T - np.diag(like.diagonal())\n",
    "interLike"
   ]
  },
  {
   "cell_type": "markdown",
   "metadata": {},
   "source": [
    "#Popularité"
   ]
  },
  {
   "cell_type": "code",
   "execution_count": 119,
   "metadata": {},
   "outputs": [
    {
     "data": {
      "text/plain": [
       "array([[0, 5, 1, 0, 3],\n",
       "       [0, 0, 0, 0, 0],\n",
       "       [0, 5, 0, 3, 3],\n",
       "       [1, 0, 0, 0, 1],\n",
       "       [0, 0, 9, 0, 0]])"
      ]
     },
     "execution_count": 119,
     "metadata": {},
     "output_type": "execute_result"
    }
   ],
   "source": [
    "#like sans diagonale\n",
    "likeSDiag = like - np.diag(like.diagonal())\n",
    "likeSDiag"
   ]
  },
  {
   "cell_type": "code",
   "execution_count": 120,
   "metadata": {},
   "outputs": [
    {
     "data": {
      "text/plain": [
       "array([[0, 5, 5, 0, 0],\n",
       "       [2, 0, 5, 0, 3],\n",
       "       [0, 0, 0, 0, 0],\n",
       "       [2, 0, 0, 0, 0],\n",
       "       [0, 4, 2, 0, 0]])"
      ]
     },
     "execution_count": 120,
     "metadata": {},
     "output_type": "execute_result"
    }
   ],
   "source": [
    "#reply sans diagonale\n",
    "replySDiag = reply - np.diag(reply.diagonal())\n",
    "replySDiag\n",
    "        \n",
    "        "
   ]
  },
  {
   "cell_type": "code",
   "execution_count": 121,
   "metadata": {},
   "outputs": [
    {
     "data": {
      "text/plain": [
       "array([[0, 2, 4, 0, 0],\n",
       "       [0, 0, 0, 0, 0],\n",
       "       [0, 0, 0, 0, 0],\n",
       "       [0, 0, 0, 0, 3],\n",
       "       [0, 2, 5, 0, 0]])"
      ]
     },
     "execution_count": 121,
     "metadata": {},
     "output_type": "execute_result"
    }
   ],
   "source": [
    "#retweet sans diagonale\n",
    "retweetSDiag = retweet- np.diag(retweet.diagonal())\n",
    "retweetSDiag"
   ]
  },
  {
   "cell_type": "code",
   "execution_count": 122,
   "metadata": {},
   "outputs": [
    {
     "data": {
      "text/plain": [
       "array([[ 0. ,  5. , -2.5,  0. ,  0. ],\n",
       "       [-1. ,  0. , -2.5,  0. , -1.5],\n",
       "       [ 0. ,  0. ,  0. ,  0. ,  0. ],\n",
       "       [-1. ,  0. ,  0. ,  0. ,  0. ],\n",
       "       [ 0. , -2. ,  2. ,  0. ,  0. ]])"
      ]
     },
     "execution_count": 122,
     "metadata": {},
     "output_type": "execute_result"
    }
   ],
   "source": [
    "#transforme reply\n",
    "replyTrans1 = np.where(replySDiag > likeSDiag, replySDiag* -0.5, replySDiag)\n",
    "replyTrans2 = np.where(replyTrans1 == 0, 0 , replyTrans1 )\n",
    "replyTrans2"
   ]
  },
  {
   "cell_type": "code",
   "execution_count": 123,
   "metadata": {},
   "outputs": [
    {
     "data": {
      "text/plain": [
       "array([[0, 2, 4, 0, 0],\n",
       "       [0, 0, 0, 0, 0],\n",
       "       [0, 0, 0, 0, 0],\n",
       "       [0, 0, 0, 0, 3],\n",
       "       [0, 2, 5, 0, 0]])"
      ]
     },
     "execution_count": 123,
     "metadata": {},
     "output_type": "execute_result"
    }
   ],
   "source": [
    "#transforme retweet\n",
    "retweetTrans = retweetSDiag \n",
    "retweetTrans"
   ]
  },
  {
   "cell_type": "code",
   "execution_count": 124,
   "metadata": {},
   "outputs": [
    {
     "data": {
      "text/plain": [
       "array([[ 0.  , 11.25,  1.  ,  0.  ,  6.75],\n",
       "       [ 0.  ,  0.  ,  0.  ,  0.  ,  0.  ],\n",
       "       [ 0.  , 11.25,  0.  ,  6.75,  6.75],\n",
       "       [ 2.25,  0.  ,  0.  ,  0.  ,  1.  ],\n",
       "       [ 0.  ,  0.  , 20.25,  0.  ,  0.  ]])"
      ]
     },
     "execution_count": 124,
     "metadata": {},
     "output_type": "execute_result"
    }
   ],
   "source": [
    "#transforme like\n",
    "InterLikes = np.where(InterLikes > 0.5 * InterTweet, InterLikes * 1.5, InterLikes)\n",
    "InterLikes"
   ]
  },
  {
   "cell_type": "code",
   "execution_count": null,
   "metadata": {},
   "outputs": [],
   "source": []
  }
 ],
 "metadata": {
  "kernelspec": {
   "display_name": "Python 3",
   "language": "python",
   "name": "python3"
  },
  "language_info": {
   "codemirror_mode": {
    "name": "ipython",
    "version": 3
   },
   "file_extension": ".py",
   "mimetype": "text/x-python",
   "name": "python",
   "nbconvert_exporter": "python",
   "pygments_lexer": "ipython3",
   "version": "3.7.3"
  }
 },
 "nbformat": 4,
 "nbformat_minor": 5
}
